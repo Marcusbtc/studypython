{
 "cells": [
  {
   "cell_type": "markdown",
   "metadata": {},
   "source": [
    "<img src=\"https://asimov.academy/wp-content/uploads/2021/01/logo.png\" width=\"200\"/>\n",
    "_____________________________________________\n",
    "\n",
    "## Exercícios #1 - Estruturas de dados\n"
   ]
  },
  {
   "cell_type": "markdown",
   "metadata": {},
   "source": [
    "### Exercício 1\n",
    "Utilizando o built-in method input(), crie um programa que receba a altura e o peso de uma pessoa e imprima na tela o IMC da mesma."
   ]
  },
  {
   "cell_type": "code",
   "execution_count": 13,
   "metadata": {},
   "outputs": [
    {
     "name": "stdout",
     "output_type": "stream",
     "text": [
      "Seja bem vindo a calculadora de IMC\n",
      "\n",
      "\n",
      "Para usar é bem simples, insira os dados a seguir\n",
      "Calculando...\n",
      "\n",
      "\n",
      "====================\n",
      "\n",
      "\n",
      "Seu Índice de Massa Corporal (IMC) é: 25.26\n",
      "\n",
      "\n",
      "Mais informações sobre o indice IMC:\n",
      "\n",
      "\n",
      "Se você está entre 0 e 24.9 você está abaixo do peso.\n",
      "Caso você esteja entre 25 e 29.9 está na faixa saudável.\n",
      "Se o seu indice estiver entre 25 e 29.9 você está no momento em sobrepeso.\n",
      "Ë se você está acima de 30 está com obesidade\n",
      "\n",
      "\n",
      "\n",
      "\n",
      "Você está com sobrepeso.\n"
     ]
    }
   ],
   "source": [
    "#Saudação\n",
    "print(\"Seja bem vindo a calculadora de IMC\")\n",
    "print(\"\\n\")\n",
    "print(\"Para usar é bem simples, insira os dados a seguir\")\n",
    "# Solicita ao usuário que insira sua altura em metros\n",
    "altura = float(input(\"Digite sua altura em metros: \"))\n",
    "\n",
    "# Solicita ao usuário que insira seu peso em quilogramas\n",
    "peso = float(input(\"Digite seu peso em quilogramas: \"))\n",
    "\n",
    "print(\"Calculando...\")\n",
    "print(\"\\n\")\n",
    "\n",
    "print(\"====================\")\n",
    "print(\"\\n\")\n",
    "\n",
    "# Calcula o IMC usando a fórmula: IMC = peso / (altura^2)\n",
    "imc = peso / (altura ** 2)\n",
    "\n",
    "# Imprime o IMC arredondado com duas casas decimais\n",
    "print(\"Seu Índice de Massa Corporal (IMC) é:\", round(imc, 2))\n",
    "print(\"\\n\")\n",
    "\n",
    "# Classifica o IMC de acordo com as categorias padrão\n",
    "\n",
    "print(\"Mais informações sobre o indice IMC:\")\n",
    "print(\"\\n\")\n",
    "print(\"Se você está entre 0 e 24.9 você está abaixo do peso.\")\n",
    "print(\"Caso você esteja entre 25 e 29.9 está na faixa saudável.\")\n",
    "print(\"Se o seu indice estiver entre 25 e 29.9 você está no momento em sobrepeso.\")\n",
    "print(\"Ë se você está acima de 30 está com obesidade\")\n",
    "print(\"\\n\")\n",
    "print(\"\\n\")\n",
    "if imc <= 18.5:\n",
    "    print(\"Você está abaixo do peso.\")\n",
    "elif 18.5 <= imc < 24.9:\n",
    "    print(\"Seu peso está dentro da faixa saudável.\")\n",
    "elif 25 <= imc < 29.9:\n",
    "    print(\"Você está com sobrepeso.\")\n",
    "\n",
    "else:\n",
    "    print(\"Você está com obesidade.\")"
   ]
  },
  {
   "cell_type": "markdown",
   "metadata": {},
   "source": [
    "### Exercício 2 \n",
    "Escreva um programa que pergunte o nome completo do usuário e cumprimente o mesmo pelo primeiro nome."
   ]
  },
  {
   "cell_type": "code",
   "execution_count": null,
   "metadata": {},
   "outputs": [],
   "source": [
    "# Solicita ao usuário que insira seu nome completo\n",
    "nome_completo = input(\"Digite seu nome completo: \")\n",
    "\n",
    "# Divide o nome completo em palavras separadas\n",
    "palavras = nome_completo.split()\n",
    "\n",
    "# Pega o primeiro nome, que é a primeira palavra na lista 'palavras'\n",
    "primeiro_nome = palavras[0]\n",
    "\n",
    "# Imprime uma saudação usando o primeiro nome\n",
    "print(\"Olá, \" + primeiro_nome + \"! Bem-vindo(a)!\")"
   ]
  },
  {
   "cell_type": "markdown",
   "metadata": {},
   "source": [
    "### Exercício 3\n",
    "Desenho um código que extraia o domínio de um e-mail informado."
   ]
  },
  {
   "cell_type": "code",
   "execution_count": null,
   "metadata": {},
   "outputs": [],
   "source": [
    "# Solicita ao usuário que insira o endereço de e-mail\n",
    "email = input(\"Digite seu endereço de e-mail: \")\n",
    "\n",
    "# Divide o endereço de e-mail em nome de usuário e domínio\n",
    "partes = email.split(\"@\")\n",
    "\n",
    "# Verifica se o endereço de e-mail tem o formato correto\n",
    "if len(partes) == 2:\n",
    "    dominio = partes[1]\n",
    "    print(\"O domínio do e-mail é:\", dominio)\n",
    "else:\n",
    "    print(\"Endereço de e-mail inválido. Certifique-se de usar o formato correto.\")\n"
   ]
  },
  {
   "cell_type": "markdown",
   "metadata": {},
   "source": [
    "### Exercício 4 \n",
    "Faça um programa para uma loja de tintas. A pessoa informa a área em m2 que deseja pintar, e o script calculará a quantidade de latas de tinta que a pessoa deve comprar e o valor. Considere que cada litro de tinta pinta 3m2, que cada lata contém 18L e que custa R$ 80."
   ]
  },
  {
   "cell_type": "code",
   "execution_count": null,
   "metadata": {},
   "outputs": [],
   "source": [
    "# Define o valor do metro quadrado que uma lata de tinta cobre\n",
    "metros_quadrados_por_lata = 18 * 3  # Cada lata tem 18 litros e cada litro pinta 3m²\n",
    "\n",
    "# Solicita ao usuário a área em metros quadrados a ser pintada\n",
    "area_a_pintar = float(input(\"Digite a área em metros quadrados que deseja pintar: \"))\n",
    "\n",
    "# Calcula a quantidade de latas de tinta necessárias\n",
    "quantidade_de_latas = int(area_a_pintar / metros_quadrados_por_lata)\n",
    "\n",
    "# Se a divisão não for exata, adiciona uma lata extra\n",
    "if area_a_pintar % metros_quadrados_por_lata != 0:\n",
    "    quantidade_de_latas += 1\n",
    "\n",
    "# Calcula o custo total\n",
    "custo_total = quantidade_de_latas * 80  # Cada lata custa R$ 80\n",
    "\n",
    "# Exibe o resultado para o usuário\n",
    "print(\"Você precisará de\", quantidade_de_latas, \"latas de tinta.\")\n",
    "print(\"O custo total será de R$\", custo_total)\n"
   ]
  },
  {
   "cell_type": "markdown",
   "metadata": {},
   "source": [
    "### Exercício 5\n",
    "Faça um Programa que pergunte quanto você ganha por hora e o número de horas trabalhadas no mês. Calcule e mostre o total do seu salário no referido mês, sabendo-se que são descontados 11% para o Imposto de Renda, 8% para o INSS e 5% para o sindicato, faça um programa que nos dê:\n",
    "1. Salário bruto.\n",
    "2. Quanto pagou ao INSS.\n",
    "3. Quanto pagou ao sindicato.\n",
    "4. O salário líquido."
   ]
  },
  {
   "cell_type": "code",
   "execution_count": null,
   "metadata": {},
   "outputs": [],
   "source": [
    "# Solicita ao usuário o valor que ganha por hora e o número de horas trabalhadas no mês\n",
    "valor_por_hora = float(input(\"Informe o valor que você ganha por hora: \"))\n",
    "horas_trabalhadas = float(input(\"Informe o número de horas trabalhadas no mês: \"))\n",
    "\n",
    "# Calcula o salário bruto\n",
    "salario_bruto = valor_por_hora * horas_trabalhadas\n",
    "\n",
    "# Calcula o valor do desconto do Imposto de Renda (11%)\n",
    "imposto_renda = salario_bruto * 0.11\n",
    "\n",
    "# Calcula o valor do desconto do INSS (8%)\n",
    "inss = salario_bruto * 0.08\n",
    "\n",
    "# Calcula o valor do desconto do sindicato (5%)\n",
    "sindicato = salario_bruto * 0.05\n",
    "\n",
    "# Calcula o salário líquido após os descontos\n",
    "salario_liquido = salario_bruto - imposto_renda - inss - sindicato\n",
    "\n",
    "# Exibe os resultados\n",
    "print(\"1. Salário bruto: R$\", salario_bruto)\n",
    "print(\"2. Valor pago ao INSS: R$\", inss)\n",
    "print(\"3. Valor pago ao sindicato: R$\", sindicato)\n",
    "print(\"4. Salário líquido: R$\", salario_liquido)"
   ]
  }
 ],
 "metadata": {
  "kernelspec": {
   "display_name": "Python 3",
   "language": "python",
   "name": "python3"
  },
  "language_info": {
   "codemirror_mode": {
    "name": "ipython",
    "version": 3
   },
   "file_extension": ".py",
   "mimetype": "text/x-python",
   "name": "python",
   "nbconvert_exporter": "python",
   "pygments_lexer": "ipython3",
   "version": "3.12.1"
  }
 },
 "nbformat": 4,
 "nbformat_minor": 4
}
