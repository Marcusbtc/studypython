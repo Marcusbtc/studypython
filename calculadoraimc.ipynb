#Saudação
print("Seja bem vindo a calculadora de IMC")
print("\n")
print("Para usar é bem simples, insira os dados a seguir")
# Solicita ao usuário que insira sua altura em metros
altura = float(input("Digite sua altura em metros: "))

# Solicita ao usuário que insira seu peso em quilogramas
peso = float(input("Digite seu peso em quilogramas: "))

print("Calculando...")
print("\n")

print("====================")
print("\n")

# Calcula o IMC usando a fórmula: IMC = peso / (altura^2)
imc = peso / (altura ** 2)

# Imprime o IMC arredondado com duas casas decimais
print("Seu Índice de Massa Corporal (IMC) é:", round(imc, 2))
print("\n")

# Classifica o IMC de acordo com as categorias padrão

print("Mais informações sobre o indice IMC:")
print("\n")
print("Se você está entre 0 e 24.9 você está abaixo do peso.")
print("Caso você esteja entre 25 e 29.9 está na faixa saudável.")
print("Se o seu indice estiver entre 25 e 29.9 você está no momento em sobrepeso.")
print("Ë se você está acima de 30 está com obesidade")
print("\n")
print("\n")
if imc <= 18.5:
    print("Você está abaixo do peso.")
elif 18.5 <= imc < 24.9:
    print("Seu peso está dentro da faixa saudável.")
elif 25 <= imc < 29.9:
    print("Você está com sobrepeso.")

else:
    print("Você está com obesidade.")
